{
 "cells": [
  {
   "cell_type": "code",
   "execution_count": 1,
   "metadata": {
    "collapsed": false
   },
   "outputs": [],
   "source": [
    "import numpy as np\n",
    "import pandas as pd\n",
    "from sklearn.ensemble import RandomForestClassifier\n",
    "from sklearn.tree import DecisionTreeClassifier\n",
    "from sklearn.naive_bayes import GaussianNB\n",
    "from sklearn.linear_model import LogisticRegression\n",
    "from sklearn.metrics import f1_score\n",
    "from sklearn.metrics import make_scorer,roc_auc_score, roc_curve\n",
    "from sklearn.grid_search import GridSearchCV\n",
    "from sklearn.cross_validation import train_test_split\n",
    "import matplotlib.pyplot as plt\n",
    "%matplotlib inline"
   ]
  },
  {
   "cell_type": "markdown",
   "metadata": {},
   "source": [
    "** Obtain data from Kaggle **"
   ]
  },
  {
   "cell_type": "code",
   "execution_count": 2,
   "metadata": {
    "collapsed": false
   },
   "outputs": [],
   "source": [
    "all_train = pd.read_csv('act_train.csv')\n",
    "people = pd.read_csv('people.csv')\n",
    "act_test = pd.read_csv('act_test.csv')"
   ]
  },
  {
   "cell_type": "markdown",
   "metadata": {},
   "source": [
    "** Initial analysis to understand the data **"
   ]
  },
  {
   "cell_type": "code",
   "execution_count": 3,
   "metadata": {
    "collapsed": false
   },
   "outputs": [
    {
     "data": {
      "text/html": [
       "<div>\n",
       "<table border=\"1\" class=\"dataframe\">\n",
       "  <thead>\n",
       "    <tr style=\"text-align: right;\">\n",
       "      <th></th>\n",
       "      <th>people_id</th>\n",
       "      <th>activity_id</th>\n",
       "      <th>date</th>\n",
       "      <th>activity_category</th>\n",
       "      <th>char_1</th>\n",
       "      <th>char_2</th>\n",
       "      <th>char_3</th>\n",
       "      <th>char_4</th>\n",
       "      <th>char_5</th>\n",
       "      <th>char_6</th>\n",
       "      <th>char_7</th>\n",
       "      <th>char_8</th>\n",
       "      <th>char_9</th>\n",
       "      <th>char_10</th>\n",
       "      <th>outcome</th>\n",
       "    </tr>\n",
       "  </thead>\n",
       "  <tbody>\n",
       "    <tr>\n",
       "      <th>0</th>\n",
       "      <td>ppl_100</td>\n",
       "      <td>act2_1734928</td>\n",
       "      <td>2023-08-26</td>\n",
       "      <td>type 4</td>\n",
       "      <td>NaN</td>\n",
       "      <td>NaN</td>\n",
       "      <td>NaN</td>\n",
       "      <td>NaN</td>\n",
       "      <td>NaN</td>\n",
       "      <td>NaN</td>\n",
       "      <td>NaN</td>\n",
       "      <td>NaN</td>\n",
       "      <td>NaN</td>\n",
       "      <td>type 76</td>\n",
       "      <td>0</td>\n",
       "    </tr>\n",
       "    <tr>\n",
       "      <th>1</th>\n",
       "      <td>ppl_100</td>\n",
       "      <td>act2_2434093</td>\n",
       "      <td>2022-09-27</td>\n",
       "      <td>type 2</td>\n",
       "      <td>NaN</td>\n",
       "      <td>NaN</td>\n",
       "      <td>NaN</td>\n",
       "      <td>NaN</td>\n",
       "      <td>NaN</td>\n",
       "      <td>NaN</td>\n",
       "      <td>NaN</td>\n",
       "      <td>NaN</td>\n",
       "      <td>NaN</td>\n",
       "      <td>type 1</td>\n",
       "      <td>0</td>\n",
       "    </tr>\n",
       "  </tbody>\n",
       "</table>\n",
       "</div>"
      ],
      "text/plain": [
       "  people_id   activity_id        date activity_category char_1 char_2 char_3  \\\n",
       "0   ppl_100  act2_1734928  2023-08-26            type 4    NaN    NaN    NaN   \n",
       "1   ppl_100  act2_2434093  2022-09-27            type 2    NaN    NaN    NaN   \n",
       "\n",
       "  char_4 char_5 char_6 char_7 char_8 char_9  char_10  outcome  \n",
       "0    NaN    NaN    NaN    NaN    NaN    NaN  type 76        0  \n",
       "1    NaN    NaN    NaN    NaN    NaN    NaN   type 1        0  "
      ]
     },
     "execution_count": 3,
     "metadata": {},
     "output_type": "execute_result"
    }
   ],
   "source": [
    "all_train.head(2)"
   ]
  },
  {
   "cell_type": "code",
   "execution_count": 4,
   "metadata": {
    "collapsed": false
   },
   "outputs": [
    {
     "data": {
      "text/html": [
       "<div>\n",
       "<table border=\"1\" class=\"dataframe\">\n",
       "  <thead>\n",
       "    <tr style=\"text-align: right;\">\n",
       "      <th></th>\n",
       "      <th>people_id</th>\n",
       "      <th>char_1</th>\n",
       "      <th>group_1</th>\n",
       "      <th>char_2</th>\n",
       "      <th>date</th>\n",
       "      <th>char_3</th>\n",
       "      <th>char_4</th>\n",
       "      <th>char_5</th>\n",
       "      <th>char_6</th>\n",
       "      <th>char_7</th>\n",
       "      <th>...</th>\n",
       "      <th>char_29</th>\n",
       "      <th>char_30</th>\n",
       "      <th>char_31</th>\n",
       "      <th>char_32</th>\n",
       "      <th>char_33</th>\n",
       "      <th>char_34</th>\n",
       "      <th>char_35</th>\n",
       "      <th>char_36</th>\n",
       "      <th>char_37</th>\n",
       "      <th>char_38</th>\n",
       "    </tr>\n",
       "  </thead>\n",
       "  <tbody>\n",
       "    <tr>\n",
       "      <th>0</th>\n",
       "      <td>ppl_100</td>\n",
       "      <td>type 2</td>\n",
       "      <td>group 17304</td>\n",
       "      <td>type 2</td>\n",
       "      <td>2021-06-29</td>\n",
       "      <td>type 5</td>\n",
       "      <td>type 5</td>\n",
       "      <td>type 5</td>\n",
       "      <td>type 3</td>\n",
       "      <td>type 11</td>\n",
       "      <td>...</td>\n",
       "      <td>False</td>\n",
       "      <td>True</td>\n",
       "      <td>True</td>\n",
       "      <td>False</td>\n",
       "      <td>False</td>\n",
       "      <td>True</td>\n",
       "      <td>True</td>\n",
       "      <td>True</td>\n",
       "      <td>False</td>\n",
       "      <td>36</td>\n",
       "    </tr>\n",
       "    <tr>\n",
       "      <th>1</th>\n",
       "      <td>ppl_100002</td>\n",
       "      <td>type 2</td>\n",
       "      <td>group 8688</td>\n",
       "      <td>type 3</td>\n",
       "      <td>2021-01-06</td>\n",
       "      <td>type 28</td>\n",
       "      <td>type 9</td>\n",
       "      <td>type 5</td>\n",
       "      <td>type 3</td>\n",
       "      <td>type 11</td>\n",
       "      <td>...</td>\n",
       "      <td>False</td>\n",
       "      <td>True</td>\n",
       "      <td>True</td>\n",
       "      <td>True</td>\n",
       "      <td>True</td>\n",
       "      <td>True</td>\n",
       "      <td>True</td>\n",
       "      <td>True</td>\n",
       "      <td>False</td>\n",
       "      <td>76</td>\n",
       "    </tr>\n",
       "  </tbody>\n",
       "</table>\n",
       "<p>2 rows × 41 columns</p>\n",
       "</div>"
      ],
      "text/plain": [
       "    people_id  char_1      group_1  char_2        date   char_3  char_4  \\\n",
       "0     ppl_100  type 2  group 17304  type 2  2021-06-29   type 5  type 5   \n",
       "1  ppl_100002  type 2   group 8688  type 3  2021-01-06  type 28  type 9   \n",
       "\n",
       "   char_5  char_6   char_7   ...   char_29 char_30 char_31 char_32 char_33  \\\n",
       "0  type 5  type 3  type 11   ...     False    True    True   False   False   \n",
       "1  type 5  type 3  type 11   ...     False    True    True    True    True   \n",
       "\n",
       "  char_34 char_35 char_36 char_37 char_38  \n",
       "0    True    True    True   False      36  \n",
       "1    True    True    True   False      76  \n",
       "\n",
       "[2 rows x 41 columns]"
      ]
     },
     "execution_count": 4,
     "metadata": {},
     "output_type": "execute_result"
    }
   ],
   "source": [
    "people.head(2)"
   ]
  },
  {
   "cell_type": "code",
   "execution_count": 5,
   "metadata": {
    "collapsed": false
   },
   "outputs": [
    {
     "name": "stdout",
     "output_type": "stream",
     "text": [
      "          Column Name  Unique Count  Rows Populated\n",
      "0           people_id      151295.0       2197291.0\n",
      "1         activity_id     2197291.0       2197291.0\n",
      "2                date         411.0       2197291.0\n",
      "3   activity_category           7.0       2197291.0\n",
      "4              char_1          51.0        157615.0\n",
      "5              char_2          32.0        157615.0\n",
      "6              char_3          11.0        157615.0\n",
      "7              char_4           7.0        157615.0\n",
      "8              char_5           7.0        157615.0\n",
      "9              char_6           5.0        157615.0\n",
      "10             char_7           8.0        157615.0\n",
      "11             char_8          18.0        157615.0\n",
      "12             char_9          19.0        157615.0\n",
      "13            char_10        6515.0       2039676.0\n",
      "14            outcome           2.0       2197291.0\n"
     ]
    }
   ],
   "source": [
    "all_col = list(all_train.columns)\n",
    "temp = pd.DataFrame(columns=['Column Name','Unique Count','Rows Populated'])\n",
    "for col,col_data in enumerate(all_col):\n",
    "    t1={}\n",
    "    t1['Column Name'] = col_data\n",
    "    t1['Unique Count'] = len(all_train[col_data].value_counts())\n",
    "    t1['Rows Populated'] = all_train[col_data].value_counts().sum()\n",
    "    temp=temp.append(t1,ignore_index=True)\n",
    "print temp"
   ]
  },
  {
   "cell_type": "code",
   "execution_count": 6,
   "metadata": {
    "collapsed": false
   },
   "outputs": [
    {
     "name": "stdout",
     "output_type": "stream",
     "text": [
      "   Column Name  Unique Count  Rows Populated\n",
      "0    people_id      189118.0        189118.0\n",
      "1       char_1           2.0        189118.0\n",
      "2      group_1       34224.0        189118.0\n",
      "3       char_2           3.0        189118.0\n",
      "4         date        1196.0        189118.0\n",
      "5       char_3          43.0        189118.0\n",
      "6       char_4          25.0        189118.0\n",
      "7       char_5           9.0        189118.0\n",
      "8       char_6           7.0        189118.0\n",
      "9       char_7          25.0        189118.0\n",
      "10      char_8           8.0        189118.0\n",
      "11      char_9           9.0        189118.0\n",
      "12     char_10           2.0        189118.0\n",
      "13     char_11           2.0        189118.0\n",
      "14     char_12           2.0        189118.0\n",
      "15     char_13           2.0        189118.0\n",
      "16     char_14           2.0        189118.0\n",
      "17     char_15           2.0        189118.0\n",
      "18     char_16           2.0        189118.0\n",
      "19     char_17           2.0        189118.0\n",
      "20     char_18           2.0        189118.0\n",
      "21     char_19           2.0        189118.0\n",
      "22     char_20           2.0        189118.0\n",
      "23     char_21           2.0        189118.0\n",
      "24     char_22           2.0        189118.0\n",
      "25     char_23           2.0        189118.0\n",
      "26     char_24           2.0        189118.0\n",
      "27     char_25           2.0        189118.0\n",
      "28     char_26           2.0        189118.0\n",
      "29     char_27           2.0        189118.0\n",
      "30     char_28           2.0        189118.0\n",
      "31     char_29           2.0        189118.0\n",
      "32     char_30           2.0        189118.0\n",
      "33     char_31           2.0        189118.0\n",
      "34     char_32           2.0        189118.0\n",
      "35     char_33           2.0        189118.0\n",
      "36     char_34           2.0        189118.0\n",
      "37     char_35           2.0        189118.0\n",
      "38     char_36           2.0        189118.0\n",
      "39     char_37           2.0        189118.0\n",
      "40     char_38         101.0        189118.0\n"
     ]
    }
   ],
   "source": [
    "del temp\n",
    "temp = pd.DataFrame(columns=['Column Name','Unique Count','Rows Populated'])\n",
    "for col,col_data in enumerate(list(people.columns)):\n",
    "    t1={}\n",
    "    t1['Column Name'] = col_data\n",
    "    t1['Unique Count'] = len(people[col_data].value_counts())\n",
    "    t1['Rows Populated'] = people[col_data].value_counts().sum()\n",
    "    temp=temp.append(t1,ignore_index=True)\n",
    "print temp\n",
    "del t1"
   ]
  },
  {
   "cell_type": "markdown",
   "metadata": {},
   "source": [
    "** Further analysis of activity file to decide data preprocess requirement **"
   ]
  },
  {
   "cell_type": "code",
   "execution_count": 7,
   "metadata": {
    "collapsed": false
   },
   "outputs": [
    {
     "name": "stdout",
     "output_type": "stream",
     "text": [
      "          Column Name  Unique Count  Rows Populated\n",
      "0           people_id       37823.0        498687.0\n",
      "1         activity_id      498687.0        498687.0\n",
      "2                date         411.0        498687.0\n",
      "3   activity_category           7.0        498687.0\n",
      "4              char_1          48.0         40092.0\n",
      "5              char_2          31.0         40092.0\n",
      "6              char_3          11.0         40092.0\n",
      "7              char_4           7.0         40092.0\n",
      "8              char_5           6.0         40092.0\n",
      "9              char_6           5.0         40092.0\n",
      "10             char_7           8.0         40092.0\n",
      "11             char_8          18.0         40092.0\n",
      "12             char_9          19.0         40092.0\n",
      "13            char_10        3961.0        458595.0\n"
     ]
    }
   ],
   "source": [
    "del temp\n",
    "temp = pd.DataFrame(columns=['Column Name','Unique Count','Rows Populated'])\n",
    "for col,col_data in enumerate(list(act_test.columns)):\n",
    "    t1={}\n",
    "    t1['Column Name'] = col_data\n",
    "    t1['Unique Count'] = len(act_test[col_data].value_counts())\n",
    "    t1['Rows Populated'] = act_test[col_data].value_counts().sum()\n",
    "    temp=temp.append(t1,ignore_index=True)\n",
    "print temp"
   ]
  },
  {
   "cell_type": "code",
   "execution_count": 8,
   "metadata": {
    "collapsed": false
   },
   "outputs": [
    {
     "name": "stdout",
     "output_type": "stream",
     "text": [
      "0    1221794\n",
      "1     975497\n",
      "Name: outcome, dtype: int64\n"
     ]
    }
   ],
   "source": [
    "print all_train['outcome'].value_counts()"
   ]
  },
  {
   "cell_type": "code",
   "execution_count": null,
   "metadata": {
    "collapsed": false
   },
   "outputs": [],
   "source": []
  },
  {
   "cell_type": "code",
   "execution_count": 9,
   "metadata": {
    "collapsed": false
   },
   "outputs": [
    {
     "data": {
      "image/png": "[encoded data removed]",
      "text/plain": [
       "<matplotlib.figure.Figure at 0xe8476a0>"
      ]
     },
     "metadata": {},
     "output_type": "display_data"
    }
   ],
   "source": [
    "days = {0:'0Mon',1:'1Tues',2:'2Weds',3:'3Thurs',4:'4Fri',5:'5Sat',6:'6Sun'}\n",
    "date_analysis = pd.DataFrame()\n",
    "date_analysis = date_analysis.append(all_train)\n",
    "date_analysis['date']=pd.to_datetime(date_analysis['date']).dt.dayofweek.apply(lambda x: days[x])\n",
    "dates = pd.DataFrame()\n",
    "dates['Outcome'] = date_analysis.groupby('date')['outcome'].sum()\n",
    "dates['Volume'] = date_analysis.groupby('date')['outcome'].size()\n",
    "dates.plot.bar(secondary_y='Outcome', linewidth=1,figsize=(7, 4),stacked=False)\n",
    "del date_analysis"
   ]
  },
  {
   "cell_type": "markdown",
   "metadata": {},
   "source": [
    "** Preprocess the data **\n",
    "\n",
    "** categorize the date columns **"
   ]
  },
  {
   "cell_type": "markdown",
   "metadata": {},
   "source": [
    "** Merge data **"
   ]
  },
  {
   "cell_type": "code",
   "execution_count": 10,
   "metadata": {
    "collapsed": true
   },
   "outputs": [],
   "source": [
    "people_act = pd.merge(all_train,people,on='people_id')\n",
    "people_act_test = pd.merge(act_test,people,on='people_id')"
   ]
  },
  {
   "cell_type": "code",
   "execution_count": 11,
   "metadata": {
    "collapsed": false
   },
   "outputs": [
    {
     "data": {
      "text/html": [
       "<div>\n",
       "<table border=\"1\" class=\"dataframe\">\n",
       "  <thead>\n",
       "    <tr style=\"text-align: right;\">\n",
       "      <th></th>\n",
       "      <th>people_id</th>\n",
       "      <th>activity_id</th>\n",
       "      <th>date_x</th>\n",
       "      <th>activity_category</th>\n",
       "      <th>char_1_x</th>\n",
       "      <th>char_2_x</th>\n",
       "      <th>char_3_x</th>\n",
       "      <th>char_4_x</th>\n",
       "      <th>char_5_x</th>\n",
       "      <th>char_6_x</th>\n",
       "      <th>...</th>\n",
       "      <th>char_29</th>\n",
       "      <th>char_30</th>\n",
       "      <th>char_31</th>\n",
       "      <th>char_32</th>\n",
       "      <th>char_33</th>\n",
       "      <th>char_34</th>\n",
       "      <th>char_35</th>\n",
       "      <th>char_36</th>\n",
       "      <th>char_37</th>\n",
       "      <th>char_38</th>\n",
       "    </tr>\n",
       "  </thead>\n",
       "  <tbody>\n",
       "    <tr>\n",
       "      <th>0</th>\n",
       "      <td>ppl_100</td>\n",
       "      <td>act2_1734928</td>\n",
       "      <td>2023-08-26</td>\n",
       "      <td>type 4</td>\n",
       "      <td>NaN</td>\n",
       "      <td>NaN</td>\n",
       "      <td>NaN</td>\n",
       "      <td>NaN</td>\n",
       "      <td>NaN</td>\n",
       "      <td>NaN</td>\n",
       "      <td>...</td>\n",
       "      <td>False</td>\n",
       "      <td>True</td>\n",
       "      <td>True</td>\n",
       "      <td>False</td>\n",
       "      <td>False</td>\n",
       "      <td>True</td>\n",
       "      <td>True</td>\n",
       "      <td>True</td>\n",
       "      <td>False</td>\n",
       "      <td>36</td>\n",
       "    </tr>\n",
       "    <tr>\n",
       "      <th>1</th>\n",
       "      <td>ppl_100</td>\n",
       "      <td>act2_2434093</td>\n",
       "      <td>2022-09-27</td>\n",
       "      <td>type 2</td>\n",
       "      <td>NaN</td>\n",
       "      <td>NaN</td>\n",
       "      <td>NaN</td>\n",
       "      <td>NaN</td>\n",
       "      <td>NaN</td>\n",
       "      <td>NaN</td>\n",
       "      <td>...</td>\n",
       "      <td>False</td>\n",
       "      <td>True</td>\n",
       "      <td>True</td>\n",
       "      <td>False</td>\n",
       "      <td>False</td>\n",
       "      <td>True</td>\n",
       "      <td>True</td>\n",
       "      <td>True</td>\n",
       "      <td>False</td>\n",
       "      <td>36</td>\n",
       "    </tr>\n",
       "  </tbody>\n",
       "</table>\n",
       "<p>2 rows × 55 columns</p>\n",
       "</div>"
      ],
      "text/plain": [
       "  people_id   activity_id      date_x activity_category char_1_x char_2_x  \\\n",
       "0   ppl_100  act2_1734928  2023-08-26            type 4      NaN      NaN   \n",
       "1   ppl_100  act2_2434093  2022-09-27            type 2      NaN      NaN   \n",
       "\n",
       "  char_3_x char_4_x char_5_x char_6_x   ...   char_29 char_30 char_31 char_32  \\\n",
       "0      NaN      NaN      NaN      NaN   ...     False    True    True   False   \n",
       "1      NaN      NaN      NaN      NaN   ...     False    True    True   False   \n",
       "\n",
       "   char_33 char_34 char_35 char_36 char_37 char_38  \n",
       "0    False    True    True    True   False      36  \n",
       "1    False    True    True    True   False      36  \n",
       "\n",
       "[2 rows x 55 columns]"
      ]
     },
     "execution_count": 11,
     "metadata": {},
     "output_type": "execute_result"
    }
   ],
   "source": [
    "people_act.head(2)"
   ]
  },
  {
   "cell_type": "code",
   "execution_count": 12,
   "metadata": {
    "collapsed": true
   },
   "outputs": [],
   "source": [
    "people_act['date_x']=pd.to_datetime(people_act['date_x']).dt.dayofweek\n",
    "people_act['date_y']=pd.to_datetime(people_act['date_y']).dt.dayofweek"
   ]
  },
  {
   "cell_type": "code",
   "execution_count": 13,
   "metadata": {
    "collapsed": true
   },
   "outputs": [],
   "source": [
    "full_col=list(people_act.columns)\n",
    "features= full_col"
   ]
  },
  {
   "cell_type": "markdown",
   "metadata": {},
   "source": [
    "** Convert all categorical data to numeric **"
   ]
  },
  {
   "cell_type": "code",
   "execution_count": 14,
   "metadata": {
    "collapsed": false
   },
   "outputs": [],
   "source": [
    "pact1= people_act[features].fillna('type')"
   ]
  },
  {
   "cell_type": "code",
   "execution_count": 15,
   "metadata": {
    "collapsed": false
   },
   "outputs": [],
   "source": [
    "for col, col_data in enumerate(features):\n",
    "    #print col,col_data,'\\t'\n",
    "    if pact1[col_data].dtype == object:\n",
    "        pact1[col_data] = pact1[col_data].map(lambda x: x.strip('type ').strip('group '))\n",
    "    else:\n",
    "        if pact1[col_data].dtype == bool:\n",
    "            pact1[col_data] = pact1[col_data].map(lambda x: 1 if x =='true' else 0)"
   ]
  },
  {
   "cell_type": "code",
   "execution_count": 16,
   "metadata": {
    "collapsed": false
   },
   "outputs": [
    {
     "data": {
      "text/html": [
       "<div>\n",
       "<table border=\"1\" class=\"dataframe\">\n",
       "  <thead>\n",
       "    <tr style=\"text-align: right;\">\n",
       "      <th></th>\n",
       "      <th>people_id</th>\n",
       "      <th>activity_id</th>\n",
       "      <th>date_x</th>\n",
       "      <th>activity_category</th>\n",
       "      <th>char_1_x</th>\n",
       "      <th>char_2_x</th>\n",
       "      <th>char_3_x</th>\n",
       "      <th>char_4_x</th>\n",
       "      <th>char_5_x</th>\n",
       "      <th>char_6_x</th>\n",
       "      <th>...</th>\n",
       "      <th>char_29</th>\n",
       "      <th>char_30</th>\n",
       "      <th>char_31</th>\n",
       "      <th>char_32</th>\n",
       "      <th>char_33</th>\n",
       "      <th>char_34</th>\n",
       "      <th>char_35</th>\n",
       "      <th>char_36</th>\n",
       "      <th>char_37</th>\n",
       "      <th>char_38</th>\n",
       "    </tr>\n",
       "  </thead>\n",
       "  <tbody>\n",
       "    <tr>\n",
       "      <th>0</th>\n",
       "      <td>l_100</td>\n",
       "      <td>act2_1734928</td>\n",
       "      <td>5</td>\n",
       "      <td>4</td>\n",
       "      <td></td>\n",
       "      <td></td>\n",
       "      <td></td>\n",
       "      <td></td>\n",
       "      <td></td>\n",
       "      <td></td>\n",
       "      <td>...</td>\n",
       "      <td>0</td>\n",
       "      <td>0</td>\n",
       "      <td>0</td>\n",
       "      <td>0</td>\n",
       "      <td>0</td>\n",
       "      <td>0</td>\n",
       "      <td>0</td>\n",
       "      <td>0</td>\n",
       "      <td>0</td>\n",
       "      <td>36</td>\n",
       "    </tr>\n",
       "    <tr>\n",
       "      <th>1</th>\n",
       "      <td>l_100</td>\n",
       "      <td>act2_2434093</td>\n",
       "      <td>1</td>\n",
       "      <td>2</td>\n",
       "      <td></td>\n",
       "      <td></td>\n",
       "      <td></td>\n",
       "      <td></td>\n",
       "      <td></td>\n",
       "      <td></td>\n",
       "      <td>...</td>\n",
       "      <td>0</td>\n",
       "      <td>0</td>\n",
       "      <td>0</td>\n",
       "      <td>0</td>\n",
       "      <td>0</td>\n",
       "      <td>0</td>\n",
       "      <td>0</td>\n",
       "      <td>0</td>\n",
       "      <td>0</td>\n",
       "      <td>36</td>\n",
       "    </tr>\n",
       "  </tbody>\n",
       "</table>\n",
       "<p>2 rows × 55 columns</p>\n",
       "</div>"
      ],
      "text/plain": [
       "  people_id   activity_id  date_x activity_category char_1_x char_2_x  \\\n",
       "0     l_100  act2_1734928       5                 4                     \n",
       "1     l_100  act2_2434093       1                 2                     \n",
       "\n",
       "  char_3_x char_4_x char_5_x char_6_x   ...   char_29 char_30 char_31 char_32  \\\n",
       "0                                       ...         0       0       0       0   \n",
       "1                                       ...         0       0       0       0   \n",
       "\n",
       "   char_33 char_34 char_35 char_36  char_37 char_38  \n",
       "0        0       0       0       0        0      36  \n",
       "1        0       0       0       0        0      36  \n",
       "\n",
       "[2 rows x 55 columns]"
      ]
     },
     "execution_count": 16,
     "metadata": {},
     "output_type": "execute_result"
    }
   ],
   "source": [
    "pact1.head(2)"
   ]
  },
  {
   "cell_type": "markdown",
   "metadata": {},
   "source": [
    "** Cleverly remove the row identifiers by indexing them so that we will not lose track of the data ** "
   ]
  },
  {
   "cell_type": "code",
   "execution_count": 17,
   "metadata": {
    "collapsed": true
   },
   "outputs": [],
   "source": [
    "pacts = pact1.set_index(['people_id','activity_id'])\n",
    "pactx = pacts.apply(pd.to_numeric, errors='coerce').fillna(-1)"
   ]
  },
  {
   "cell_type": "code",
   "execution_count": 18,
   "metadata": {
    "collapsed": false
   },
   "outputs": [
    {
     "data": {
      "text/html": [
       "<div>\n",
       "<table border=\"1\" class=\"dataframe\">\n",
       "  <thead>\n",
       "    <tr style=\"text-align: right;\">\n",
       "      <th></th>\n",
       "      <th></th>\n",
       "      <th>date_x</th>\n",
       "      <th>activity_category</th>\n",
       "      <th>char_1_x</th>\n",
       "      <th>char_2_x</th>\n",
       "      <th>char_3_x</th>\n",
       "      <th>char_4_x</th>\n",
       "      <th>char_5_x</th>\n",
       "      <th>char_6_x</th>\n",
       "      <th>char_7_x</th>\n",
       "      <th>char_8_x</th>\n",
       "      <th>...</th>\n",
       "      <th>char_29</th>\n",
       "      <th>char_30</th>\n",
       "      <th>char_31</th>\n",
       "      <th>char_32</th>\n",
       "      <th>char_33</th>\n",
       "      <th>char_34</th>\n",
       "      <th>char_35</th>\n",
       "      <th>char_36</th>\n",
       "      <th>char_37</th>\n",
       "      <th>char_38</th>\n",
       "    </tr>\n",
       "    <tr>\n",
       "      <th>people_id</th>\n",
       "      <th>activity_id</th>\n",
       "      <th></th>\n",
       "      <th></th>\n",
       "      <th></th>\n",
       "      <th></th>\n",
       "      <th></th>\n",
       "      <th></th>\n",
       "      <th></th>\n",
       "      <th></th>\n",
       "      <th></th>\n",
       "      <th></th>\n",
       "      <th></th>\n",
       "      <th></th>\n",
       "      <th></th>\n",
       "      <th></th>\n",
       "      <th></th>\n",
       "      <th></th>\n",
       "      <th></th>\n",
       "      <th></th>\n",
       "      <th></th>\n",
       "      <th></th>\n",
       "      <th></th>\n",
       "    </tr>\n",
       "  </thead>\n",
       "  <tbody>\n",
       "    <tr>\n",
       "      <th rowspan=\"2\" valign=\"top\">l_100</th>\n",
       "      <th>act2_1734928</th>\n",
       "      <td>5</td>\n",
       "      <td>4</td>\n",
       "      <td>-1.0</td>\n",
       "      <td>-1.0</td>\n",
       "      <td>-1.0</td>\n",
       "      <td>-1.0</td>\n",
       "      <td>-1.0</td>\n",
       "      <td>-1.0</td>\n",
       "      <td>-1.0</td>\n",
       "      <td>-1.0</td>\n",
       "      <td>...</td>\n",
       "      <td>0</td>\n",
       "      <td>0</td>\n",
       "      <td>0</td>\n",
       "      <td>0</td>\n",
       "      <td>0</td>\n",
       "      <td>0</td>\n",
       "      <td>0</td>\n",
       "      <td>0</td>\n",
       "      <td>0</td>\n",
       "      <td>36</td>\n",
       "    </tr>\n",
       "    <tr>\n",
       "      <th>act2_2434093</th>\n",
       "      <td>1</td>\n",
       "      <td>2</td>\n",
       "      <td>-1.0</td>\n",
       "      <td>-1.0</td>\n",
       "      <td>-1.0</td>\n",
       "      <td>-1.0</td>\n",
       "      <td>-1.0</td>\n",
       "      <td>-1.0</td>\n",
       "      <td>-1.0</td>\n",
       "      <td>-1.0</td>\n",
       "      <td>...</td>\n",
       "      <td>0</td>\n",
       "      <td>0</td>\n",
       "      <td>0</td>\n",
       "      <td>0</td>\n",
       "      <td>0</td>\n",
       "      <td>0</td>\n",
       "      <td>0</td>\n",
       "      <td>0</td>\n",
       "      <td>0</td>\n",
       "      <td>36</td>\n",
       "    </tr>\n",
       "  </tbody>\n",
       "</table>\n",
       "<p>2 rows × 53 columns</p>\n",
       "</div>"
      ],
      "text/plain": [
       "                        date_x  activity_category  char_1_x  char_2_x  \\\n",
       "people_id activity_id                                                   \n",
       "l_100     act2_1734928       5                  4      -1.0      -1.0   \n",
       "          act2_2434093       1                  2      -1.0      -1.0   \n",
       "\n",
       "                        char_3_x  char_4_x  char_5_x  char_6_x  char_7_x  \\\n",
       "people_id activity_id                                                      \n",
       "l_100     act2_1734928      -1.0      -1.0      -1.0      -1.0      -1.0   \n",
       "          act2_2434093      -1.0      -1.0      -1.0      -1.0      -1.0   \n",
       "\n",
       "                        char_8_x   ...     char_29  char_30  char_31  char_32  \\\n",
       "people_id activity_id              ...                                          \n",
       "l_100     act2_1734928      -1.0   ...           0        0        0        0   \n",
       "          act2_2434093      -1.0   ...           0        0        0        0   \n",
       "\n",
       "                        char_33  char_34  char_35  char_36  char_37  char_38  \n",
       "people_id activity_id                                                         \n",
       "l_100     act2_1734928        0        0        0        0        0       36  \n",
       "          act2_2434093        0        0        0        0        0       36  \n",
       "\n",
       "[2 rows x 53 columns]"
      ]
     },
     "execution_count": 18,
     "metadata": {},
     "output_type": "execute_result"
    }
   ],
   "source": [
    "pactx.head(2)"
   ]
  },
  {
   "cell_type": "markdown",
   "metadata": {},
   "source": [
    "** Separate the data into features and target values so that they can be used as input to sklearn **"
   ]
  },
  {
   "cell_type": "code",
   "execution_count": 19,
   "metadata": {
    "collapsed": false
   },
   "outputs": [
    {
     "name": "stdout",
     "output_type": "stream",
     "text": [
      "(2197291, 52)\n",
      "(2197291L,)\n"
     ]
    }
   ],
   "source": [
    "features1 = list(pacts.columns)\n",
    "features1.remove('outcome')\n",
    "X_all = pactx[features1]\n",
    "y_all = pactx['outcome']\n",
    "print X_all.shape\n",
    "print y_all.shape"
   ]
  },
  {
   "cell_type": "markdown",
   "metadata": {},
   "source": [
    "** Split combined dataset to train and test **"
   ]
  },
  {
   "cell_type": "code",
   "execution_count": 20,
   "metadata": {
    "collapsed": false
   },
   "outputs": [],
   "source": [
    "X_train, X_test, y_train, y_test = train_test_split(X_all, y_all, test_size=.20, random_state=0)"
   ]
  },
  {
   "cell_type": "code",
   "execution_count": 21,
   "metadata": {
    "collapsed": false
   },
   "outputs": [
    {
     "name": "stdout",
     "output_type": "stream",
     "text": [
      "0    977580\n",
      "1    780252\n",
      "Name: outcome, dtype: int64\n",
      "0    244214\n",
      "1    195245\n",
      "Name: outcome, dtype: int64\n"
     ]
    }
   ],
   "source": [
    "print y_train.value_counts() # to confirm stratified split\n",
    "print y_test.value_counts()"
   ]
  },
  {
   "cell_type": "markdown",
   "metadata": {},
   "source": [
    "** Helper functions to run multiple models and measure performance **"
   ]
  },
  {
   "cell_type": "code",
   "execution_count": 22,
   "metadata": {
    "collapsed": false
   },
   "outputs": [],
   "source": [
    "import time\n",
    "\n",
    "def train_classifier(clf, X_train, y_train):\n",
    "    print \"Training {}...\".format(clf.__class__.__name__)\n",
    "    start = time.time()\n",
    "    clf.fit(X_train, y_train)\n",
    "    end = time.time()\n",
    "    print \"Done!\\nTraining time (secs): {:.3f}\".format(end - start)\n",
    "    train_time = end - start\n",
    "    return train_time\n",
    "    \n",
    "def predict_labels(clf, features, target):\n",
    "    print \"Predicting labels using {}...\".format(clf.__class__.__name__)\n",
    "    start = time.time()\n",
    "    y_pred = clf.predict_proba(features)[:,1]\n",
    "    fpr,tpr,_ = roc_curve(target.values, y_pred)\n",
    "    score = roc_auc_score(target.values, y_pred)\n",
    "    end = time.time()\n",
    "    pred_time = end - start\n",
    "    print \"Done!\\nPrediction time (secs): {:.3f}\".format(end - start)\n",
    "    return fpr,tpr,score,pred_time\n",
    "\n",
    "def train_predict(clf, X_train, y_train, X_test, y_test):\n",
    "    print \"------------------------------------------\"\n",
    "    print \"Training set size: {}\".format(len(X_train))\n",
    "    train_time = train_classifier(clf, X_train, y_train)\n",
    "    fpr,tpr,score,pred_time = predict_labels(clf, X_train, y_train)\n",
    "    fprt,tprt,scoret,pred_timet = predict_labels(clf, X_test, y_test)\n",
    "    print \"ROC AUC score for training set: {}\".format(score)\n",
    "    print \"ROC AUC score for test set: {}\".format(scoret)\n",
    "    return fprt, tprt, score, scoret, train_time, pred_time, pred_timet"
   ]
  },
  {
   "cell_type": "code",
   "execution_count": 23,
   "metadata": {
    "collapsed": true
   },
   "outputs": [],
   "source": [
    "feature3=['group_1','char_2_y','char_38','char_3_y','char_4_y','char_5_y','char_6_y','char_7_y','char_8_y',\n",
    "          'date_x','char_1_x','char_2_x','char_3_x','char_4_x','char_5_x',\n",
    "          'char_6_x','char_7_x','char_8_x','char_9_x','char_10_x']\n",
    "feature1 = features1[:]"
   ]
  },
  {
   "cell_type": "markdown",
   "metadata": {},
   "source": [
    "** Initial model with the entire features and set as initial Benchmark**"
   ]
  },
  {
   "cell_type": "code",
   "execution_count": 24,
   "metadata": {
    "collapsed": false
   },
   "outputs": [
    {
     "name": "stdout",
     "output_type": "stream",
     "text": [
      "------------------------------------------\n",
      "Training set size: 1757832\n",
      "Training LogisticRegression...\n",
      "Done!\n",
      "Training time (secs): 61.729\n",
      "Predicting labels using LogisticRegression...\n",
      "Done!\n",
      "Prediction time (secs): 2.771\n",
      "Predicting labels using LogisticRegression...\n",
      "Done!\n",
      "Prediction time (secs): 0.529\n",
      "ROC AUC score for training set: 0.892215703917\n",
      "ROC AUC score for test set: 0.892446649781\n"
     ]
    }
   ],
   "source": [
    "clf_benchmark = LogisticRegression()\n",
    "fprb,tprb,scoreb,scorebt,train_timeb,pred_timeb,pred_timetb=train_predict(clf_benchmark,X_train, y_train,X_test,y_test)"
   ]
  },
  {
   "cell_type": "code",
   "execution_count": 25,
   "metadata": {
    "collapsed": false
   },
   "outputs": [
    {
     "name": "stdout",
     "output_type": "stream",
     "text": [
      "------------------------------------------\n",
      "Training set size: 1757832\n",
      "Training RandomForestClassifier...\n",
      "Done!\n",
      "Training time (secs): 66.419\n",
      "Predicting labels using RandomForestClassifier...\n",
      "Done!\n",
      "Prediction time (secs): 10.133\n",
      "Predicting labels using RandomForestClassifier...\n",
      "Done!\n",
      "Prediction time (secs): 2.063\n",
      "ROC AUC score for training set: 0.999374389531\n",
      "ROC AUC score for test set: 0.994299103141\n"
     ]
    }
   ],
   "source": [
    "clf0 = RandomForestClassifier()\n",
    "fpr0,tpr0,score0,score0t,train_time0,pred_time0,pred_timet0=train_predict(clf0,X_train, y_train,X_test,y_test)"
   ]
  },
  {
   "cell_type": "markdown",
   "metadata": {},
   "source": [
    "** Fine tune with feature set feature3 of select features **"
   ]
  },
  {
   "cell_type": "code",
   "execution_count": 26,
   "metadata": {
    "collapsed": false
   },
   "outputs": [
    {
     "name": "stdout",
     "output_type": "stream",
     "text": [
      "------------------------------------------\n",
      "Training set size: 1757832\n",
      "Training RandomForestClassifier...\n",
      "Done!\n",
      "Training time (secs): 65.032\n",
      "Predicting labels using RandomForestClassifier...\n",
      "Done!\n",
      "Prediction time (secs): 7.288\n",
      "Predicting labels using RandomForestClassifier...\n",
      "Done!\n",
      "Prediction time (secs): 1.845\n",
      "ROC AUC score for training set: 0.999373481993\n",
      "ROC AUC score for test set: 0.994891418242\n"
     ]
    }
   ],
   "source": [
    "clf1 = RandomForestClassifier()\n",
    "fpr1,tpr1,score1,score1t,train_time1,pred_time1,pred_timet1=train_predict(clf1,X_train[feature3], y_train,X_test[feature3],y_test)"
   ]
  },
  {
   "cell_type": "markdown",
   "metadata": {},
   "source": [
    "** Final model with max_features parameters **"
   ]
  },
  {
   "cell_type": "code",
   "execution_count": 27,
   "metadata": {
    "collapsed": false
   },
   "outputs": [
    {
     "name": "stdout",
     "output_type": "stream",
     "text": [
      "------------------------------------------\n",
      "Training set size: 1757832\n",
      "Training RandomForestClassifier...\n",
      "Done!\n",
      "Training time (secs): 116.701\n",
      "Predicting labels using RandomForestClassifier...\n",
      "Done!\n",
      "Prediction time (secs): 6.889\n",
      "Predicting labels using RandomForestClassifier...\n",
      "Done!\n",
      "Prediction time (secs): 1.749\n",
      "ROC AUC score for training set: 0.999472080009\n",
      "ROC AUC score for test set: 0.995445726242\n"
     ]
    }
   ],
   "source": [
    "clf2 = RandomForestClassifier(max_features=20)\n",
    "fpr2,tpr2,score2,scoret,train_time2,pred_time2,pred_timet2=train_predict(clf2,X_train, y_train,X_test,y_test)"
   ]
  },
  {
   "cell_type": "code",
   "execution_count": 28,
   "metadata": {
    "collapsed": false
   },
   "outputs": [
    {
     "data": {
      "image/png": "[encoded data removed]",
      "text/plain": [
       "<matplotlib.figure.Figure at 0x53d552e8>"
      ]
     },
     "metadata": {},
     "output_type": "display_data"
    }
   ],
   "source": [
    "#fpr=list(bench_mark[['fpr']].ix[0].values)\n",
    "#tpr=list(bench_mark[['tpr']].ix[0].values)\n",
    "plt.figure(1)\n",
    "plt.plot([0, 1], [0, 1], 'k--')\n",
    "plt.xlim(-.04, 1.0)\n",
    "plt.ylim(0, 1.04)\n",
    "plt.plot(fprb,tprb,color='b',label='Benchmark Logistic')\n",
    "plt.plot(fpr0,tpr0,color='r',label='All Feature-RF')\n",
    "plt.plot(fpr1,tpr1,color='b',label='Feature3-RF')\n",
    "plt.plot(fpr2,tpr2,color='g',linewidth=2,label='Max_features-RF')\n",
    "plt.xlabel('False positive rate')\n",
    "plt.ylabel('True positive rate')\n",
    "plt.title('ROC curve')\n",
    "plt.legend(loc='best')\n",
    "plt.show()"
   ]
  },
  {
   "cell_type": "markdown",
   "metadata": {},
   "source": [
    "** Preprocess the test data (the third file without target values provided by Kaggle) for final submission to Kaggle **"
   ]
  },
  {
   "cell_type": "code",
   "execution_count": 29,
   "metadata": {
    "collapsed": false
   },
   "outputs": [],
   "source": [
    "people_act_test['date_x']=pd.to_datetime(people_act_test['date_x']).dt.dayofweek\n",
    "people_act_test['date_y']=pd.to_datetime(people_act_test['date_y']).dt.dayofweek"
   ]
  },
  {
   "cell_type": "code",
   "execution_count": 30,
   "metadata": {
    "collapsed": true
   },
   "outputs": [],
   "source": [
    "features2=list(people_act_test.columns)\n",
    "pact2= people_act_test[features2].fillna('type')\n",
    "for col, col_data in enumerate(features2):\n",
    "    #print col,col_data\n",
    "    if pact2[col_data].dtype == object:\n",
    "        pact2[col_data] = pact2[col_data].map(lambda x: x.strip('type ').strip('group '))\n",
    "    else:\n",
    "        if pact2[col_data].dtype == bool:\n",
    "            pact2[col_data] = pact2[col_data].map(lambda x: 1 if x =='true' else 0)"
   ]
  },
  {
   "cell_type": "code",
   "execution_count": 31,
   "metadata": {
    "collapsed": false
   },
   "outputs": [
    {
     "data": {
      "text/html": [
       "<div>\n",
       "<table border=\"1\" class=\"dataframe\">\n",
       "  <thead>\n",
       "    <tr style=\"text-align: right;\">\n",
       "      <th></th>\n",
       "      <th>people_id</th>\n",
       "      <th>activity_id</th>\n",
       "      <th>date_x</th>\n",
       "      <th>activity_category</th>\n",
       "      <th>char_1_x</th>\n",
       "      <th>char_2_x</th>\n",
       "      <th>char_3_x</th>\n",
       "      <th>char_4_x</th>\n",
       "      <th>char_5_x</th>\n",
       "      <th>char_6_x</th>\n",
       "      <th>...</th>\n",
       "      <th>char_29</th>\n",
       "      <th>char_30</th>\n",
       "      <th>char_31</th>\n",
       "      <th>char_32</th>\n",
       "      <th>char_33</th>\n",
       "      <th>char_34</th>\n",
       "      <th>char_35</th>\n",
       "      <th>char_36</th>\n",
       "      <th>char_37</th>\n",
       "      <th>char_38</th>\n",
       "    </tr>\n",
       "  </thead>\n",
       "  <tbody>\n",
       "    <tr>\n",
       "      <th>0</th>\n",
       "      <td>l_100004</td>\n",
       "      <td>act1_249281</td>\n",
       "      <td>2</td>\n",
       "      <td>1</td>\n",
       "      <td>5</td>\n",
       "      <td>10</td>\n",
       "      <td>5</td>\n",
       "      <td>1</td>\n",
       "      <td>6</td>\n",
       "      <td>1</td>\n",
       "      <td>...</td>\n",
       "      <td>0</td>\n",
       "      <td>0</td>\n",
       "      <td>0</td>\n",
       "      <td>0</td>\n",
       "      <td>0</td>\n",
       "      <td>0</td>\n",
       "      <td>0</td>\n",
       "      <td>0</td>\n",
       "      <td>0</td>\n",
       "      <td>76</td>\n",
       "    </tr>\n",
       "    <tr>\n",
       "      <th>1</th>\n",
       "      <td>l_100004</td>\n",
       "      <td>act2_230855</td>\n",
       "      <td>2</td>\n",
       "      <td>5</td>\n",
       "      <td></td>\n",
       "      <td></td>\n",
       "      <td></td>\n",
       "      <td></td>\n",
       "      <td></td>\n",
       "      <td></td>\n",
       "      <td>...</td>\n",
       "      <td>0</td>\n",
       "      <td>0</td>\n",
       "      <td>0</td>\n",
       "      <td>0</td>\n",
       "      <td>0</td>\n",
       "      <td>0</td>\n",
       "      <td>0</td>\n",
       "      <td>0</td>\n",
       "      <td>0</td>\n",
       "      <td>76</td>\n",
       "    </tr>\n",
       "  </tbody>\n",
       "</table>\n",
       "<p>2 rows × 54 columns</p>\n",
       "</div>"
      ],
      "text/plain": [
       "  people_id  activity_id  date_x activity_category char_1_x char_2_x char_3_x  \\\n",
       "0  l_100004  act1_249281       2                 1        5       10        5   \n",
       "1  l_100004  act2_230855       2                 5                              \n",
       "\n",
       "  char_4_x char_5_x char_6_x   ...   char_29 char_30 char_31 char_32 char_33  \\\n",
       "0        1        6        1   ...         0       0       0       0       0   \n",
       "1                              ...         0       0       0       0       0   \n",
       "\n",
       "  char_34 char_35  char_36 char_37 char_38  \n",
       "0       0       0        0       0      76  \n",
       "1       0       0        0       0      76  \n",
       "\n",
       "[2 rows x 54 columns]"
      ]
     },
     "execution_count": 31,
     "metadata": {},
     "output_type": "execute_result"
    }
   ],
   "source": [
    "pact2.head(2)"
   ]
  },
  {
   "cell_type": "code",
   "execution_count": 32,
   "metadata": {
    "collapsed": false
   },
   "outputs": [],
   "source": [
    "pacts2 = pact2.set_index(['people_id','activity_id'])\n",
    "pactx2 = pacts2.apply(pd.to_numeric, errors='coerce').fillna(-1)"
   ]
  },
  {
   "cell_type": "code",
   "execution_count": 33,
   "metadata": {
    "collapsed": false
   },
   "outputs": [],
   "source": [
    "featurex = list(pactx2.columns)\n",
    "featurex.remove('date_y')\n",
    "featurex.remove('date_x')"
   ]
  },
  {
   "cell_type": "markdown",
   "metadata": {},
   "source": [
    "** Create predicted output for the test file **"
   ]
  },
  {
   "cell_type": "code",
   "execution_count": 34,
   "metadata": {
    "collapsed": false
   },
   "outputs": [
    {
     "name": "stdout",
     "output_type": "stream",
     "text": [
      "[ 0.6   0.5   0.9   0.8   0.9   0.9   0.9   0.9   0.9   1.    0.9   0.9\n",
      "  0.9   0.9   0.9   0.9   0.9   0.9   0.9   0.9   0.9   0.9   0.9   0.9\n",
      "  0.9   0.9   1.    0.    0.    0.    0.    0.9   0.9   0.9   0.9   0.9\n",
      "  0.9   0.8   0.9   0.89]\n"
     ]
    }
   ],
   "source": [
    "yfinal_pred = clf2.predict_proba(pactx2)[:,1]\n",
    "print yfinal_pred[0:40]"
   ]
  },
  {
   "cell_type": "markdown",
   "metadata": {},
   "source": [
    "** Create the final file to be submitted **"
   ]
  },
  {
   "cell_type": "code",
   "execution_count": 35,
   "metadata": {
    "collapsed": true
   },
   "outputs": [],
   "source": [
    "sub = pd.DataFrame()\n",
    "sub['activity_id'] = pact2['activity_id']\n",
    "sub['pred_outcome'] = yfinal_pred\n",
    "sub.to_csv('Redhat_sub.csv')"
   ]
  },
  {
   "cell_type": "markdown",
   "metadata": {},
   "source": [
    "** Populate the result comparison of various models **"
   ]
  },
  {
   "cell_type": "code",
   "execution_count": 36,
   "metadata": {
    "collapsed": false
   },
   "outputs": [
    {
     "name": "stdout",
     "output_type": "stream",
     "text": [
      "------------------------------------------\n",
      "Training set size: 1757832\n",
      "Training RandomForestClassifier...\n",
      "Done!\n",
      "Training time (secs): 65.670\n",
      "Predicting labels using RandomForestClassifier...\n",
      "Done!\n",
      "Prediction time (secs): 8.571\n",
      "Predicting labels using RandomForestClassifier...\n",
      "Done!\n",
      "Prediction time (secs): 2.364\n",
      "ROC AUC score for training set: 0.999366087899\n",
      "ROC AUC score for test set: 0.99424070087\n",
      "------------------------------------------\n",
      "Training set size: 1757832\n",
      "Training RandomForestClassifier...\n",
      "Done!\n",
      "Training time (secs): 67.398\n",
      "Predicting labels using RandomForestClassifier...\n",
      "Done!\n",
      "Prediction time (secs): 7.308\n",
      "Predicting labels using RandomForestClassifier...\n",
      "Done!\n",
      "Prediction time (secs): 1.844\n",
      "ROC AUC score for training set: 0.999372334948\n",
      "ROC AUC score for test set: 0.994856829684\n",
      "------------------------------------------\n",
      "Training set size: 1757832\n",
      "Training RandomForestClassifier...\n",
      "Done!\n",
      "Training time (secs): 66.058\n",
      "Predicting labels using RandomForestClassifier...\n",
      "Done!\n",
      "Prediction time (secs): 8.569\n",
      "Predicting labels using RandomForestClassifier...\n",
      "Done!\n",
      "Prediction time (secs): 2.152\n",
      "ROC AUC score for training set: 0.999362525921\n",
      "ROC AUC score for test set: 0.994109217941\n",
      "------------------------------------------\n",
      "Training set size: 1757832\n",
      "Training RandomForestClassifier...\n",
      "Done!\n",
      "Training time (secs): 65.344\n",
      "Predicting labels using RandomForestClassifier...\n",
      "Done!\n",
      "Prediction time (secs): 8.400\n",
      "Predicting labels using RandomForestClassifier...\n",
      "Done!\n",
      "Prediction time (secs): 1.889\n",
      "ROC AUC score for training set: 0.999368818832\n",
      "ROC AUC score for test set: 0.994785560312\n",
      "------------------------------------------\n",
      "Training set size: 1757832\n",
      "Training RandomForestClassifier...\n",
      "Done!\n",
      "Training time (secs): 118.041\n",
      "Predicting labels using RandomForestClassifier...\n",
      "Done!\n",
      "Prediction time (secs): 6.934\n",
      "Predicting labels using RandomForestClassifier...\n",
      "Done!\n",
      "Prediction time (secs): 1.745\n",
      "ROC AUC score for training set: 0.999472649309\n",
      "ROC AUC score for test set: 0.995493179375\n",
      "------------------------------------------\n",
      "Training set size: 1757832\n",
      "Training RandomForestClassifier...\n",
      "Done!\n",
      "Training time (secs): 219.399\n",
      "Predicting labels using RandomForestClassifier...\n",
      "Done!\n",
      "Prediction time (secs): 5.872\n",
      "Predicting labels using RandomForestClassifier...\n",
      "Done!\n",
      "Prediction time (secs): 1.536\n",
      "ROC AUC score for training set: 0.999452683593\n",
      "ROC AUC score for test set: 0.995416974584\n"
     ]
    }
   ],
   "source": [
    "bench_mark = pd.DataFrame()\n",
    "test_features = [feature1,feature3]\n",
    "clflist = [clf0,clf1,clf2]\n",
    "for clf in clflist:\n",
    "    for x in test_features:\n",
    "        fprt,tprt,score,scoret,train_time,pred_time,pred_timet=train_predict(clf,X_train[x], y_train,X_test[x],y_test)\n",
    "        bm = {}\n",
    "        bm['fpr'] = fprt\n",
    "        bm['tpr'] = tprt\n",
    "        bm['AUC Train'] = score\n",
    "        bm['AUC Test'] = scoret\n",
    "        bm['Train Time'] = train_time\n",
    "        bm['Pred Time Train'] = pred_time\n",
    "        bm['Pred Time Test'] = pred_timet\n",
    "        bm['features'] = x\n",
    "        bm['classifier'] = clf.__class__.__name__\n",
    "        bench_mark = bench_mark.append(bm,ignore_index=True)"
   ]
  },
  {
   "cell_type": "code",
   "execution_count": 37,
   "metadata": {
    "collapsed": false
   },
   "outputs": [
    {
     "data": {
      "text/html": [
       "<div>\n",
       "<table border=\"1\" class=\"dataframe\">\n",
       "  <thead>\n",
       "    <tr style=\"text-align: right;\">\n",
       "      <th></th>\n",
       "      <th>features</th>\n",
       "      <th>AUC Test</th>\n",
       "      <th>AUC Train</th>\n",
       "      <th>Pred Time Test</th>\n",
       "      <th>Pred Time Train</th>\n",
       "      <th>Train Time</th>\n",
       "    </tr>\n",
       "  </thead>\n",
       "  <tbody>\n",
       "    <tr>\n",
       "      <th>0</th>\n",
       "      <td>[date_x, activity_category, char_1_x, char_2_x...</td>\n",
       "      <td>0.994241</td>\n",
       "      <td>0.999366</td>\n",
       "      <td>2.364</td>\n",
       "      <td>8.571</td>\n",
       "      <td>65.670</td>\n",
       "    </tr>\n",
       "    <tr>\n",
       "      <th>1</th>\n",
       "      <td>[group_1, char_2_y, char_38, char_3_y, char_4_...</td>\n",
       "      <td>0.994857</td>\n",
       "      <td>0.999372</td>\n",
       "      <td>1.844</td>\n",
       "      <td>7.308</td>\n",
       "      <td>67.398</td>\n",
       "    </tr>\n",
       "    <tr>\n",
       "      <th>2</th>\n",
       "      <td>[date_x, activity_category, char_1_x, char_2_x...</td>\n",
       "      <td>0.994109</td>\n",
       "      <td>0.999363</td>\n",
       "      <td>2.152</td>\n",
       "      <td>8.569</td>\n",
       "      <td>66.058</td>\n",
       "    </tr>\n",
       "    <tr>\n",
       "      <th>3</th>\n",
       "      <td>[group_1, char_2_y, char_38, char_3_y, char_4_...</td>\n",
       "      <td>0.994786</td>\n",
       "      <td>0.999369</td>\n",
       "      <td>1.889</td>\n",
       "      <td>8.400</td>\n",
       "      <td>65.344</td>\n",
       "    </tr>\n",
       "    <tr>\n",
       "      <th>4</th>\n",
       "      <td>[date_x, activity_category, char_1_x, char_2_x...</td>\n",
       "      <td>0.995493</td>\n",
       "      <td>0.999473</td>\n",
       "      <td>1.745</td>\n",
       "      <td>6.934</td>\n",
       "      <td>118.041</td>\n",
       "    </tr>\n",
       "    <tr>\n",
       "      <th>5</th>\n",
       "      <td>[group_1, char_2_y, char_38, char_3_y, char_4_...</td>\n",
       "      <td>0.995417</td>\n",
       "      <td>0.999453</td>\n",
       "      <td>1.536</td>\n",
       "      <td>5.872</td>\n",
       "      <td>219.399</td>\n",
       "    </tr>\n",
       "  </tbody>\n",
       "</table>\n",
       "</div>"
      ],
      "text/plain": [
       "                                            features  AUC Test  AUC Train  \\\n",
       "0  [date_x, activity_category, char_1_x, char_2_x...  0.994241   0.999366   \n",
       "1  [group_1, char_2_y, char_38, char_3_y, char_4_...  0.994857   0.999372   \n",
       "2  [date_x, activity_category, char_1_x, char_2_x...  0.994109   0.999363   \n",
       "3  [group_1, char_2_y, char_38, char_3_y, char_4_...  0.994786   0.999369   \n",
       "4  [date_x, activity_category, char_1_x, char_2_x...  0.995493   0.999473   \n",
       "5  [group_1, char_2_y, char_38, char_3_y, char_4_...  0.995417   0.999453   \n",
       "\n",
       "   Pred Time Test  Pred Time Train  Train Time  \n",
       "0           2.364            8.571      65.670  \n",
       "1           1.844            7.308      67.398  \n",
       "2           2.152            8.569      66.058  \n",
       "3           1.889            8.400      65.344  \n",
       "4           1.745            6.934     118.041  \n",
       "5           1.536            5.872     219.399  "
      ]
     },
     "execution_count": 37,
     "metadata": {},
     "output_type": "execute_result"
    }
   ],
   "source": [
    "bench_mark[['features','AUC Test','AUC Train','Pred Time Test','Pred Time Train','Train Time']]"
   ]
  },
  {
   "cell_type": "markdown",
   "metadata": {},
   "source": [
    "** Free form visualization **"
   ]
  },
  {
   "cell_type": "code",
   "execution_count": 38,
   "metadata": {
    "collapsed": true
   },
   "outputs": [],
   "source": [
    "date_analysis1 = pd.DataFrame()\n",
    "date_analysis1 = date_analysis1.append(all_train)\n",
    "date_analysis1['month']=pd.to_datetime(date_analysis1['date']).dt.month\n",
    "date_analysis1['year']=pd.to_datetime(date_analysis1['date']).dt.year"
   ]
  },
  {
   "cell_type": "code",
   "execution_count": 39,
   "metadata": {
    "collapsed": false
   },
   "outputs": [
    {
     "data": {
      "image/png": "[encoded data removed]",
      "text/plain": [
       "<matplotlib.figure.Figure at 0xfb42a748>"
      ]
     },
     "metadata": {},
     "output_type": "display_data"
    }
   ],
   "source": [
    "dates1 = pd.DataFrame()\n",
    "dates1['Outcome'] = date_analysis1.groupby(['year','month'])['outcome'].sum()\n",
    "dates1['Volume'] = date_analysis1.groupby(['year','month'])['outcome'].size()\n",
    "dates1.plot(secondary_y='Outcome', linewidth=2,figsize=(7, 4),stacked=False)\n",
    "del date_analysis1"
   ]
  },
  {
   "cell_type": "code",
   "execution_count": null,
   "metadata": {
    "collapsed": true
   },
   "outputs": [],
   "source": []
  }
 ],
 "metadata": {
  "kernelspec": {
   "display_name": "Python 2",
   "language": "python",
   "name": "python2"
  },
  "language_info": {
   "codemirror_mode": {
    "name": "ipython",
    "version": 2
   },
   "file_extension": ".py",
   "mimetype": "text/x-python",
   "name": "python",
   "nbconvert_exporter": "python",
   "pygments_lexer": "ipython2",
   "version": "2.7.12"
  }
 },
 "nbformat": 4,
 "nbformat_minor": 0
}
